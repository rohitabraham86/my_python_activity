{
 "cells": [
  {
   "cell_type": "code",
   "execution_count": 5,
   "id": "1b7b4397",
   "metadata": {},
   "outputs": [],
   "source": [
    "import pandas as pd\n",
    "\n",
    "movies = pd.read_excel('movies.xlsx')\n",
    "ott = pd.read_csv('ott.csv')\n"
   ]
  },
  {
   "cell_type": "code",
   "execution_count": 7,
   "id": "4c80d1de",
   "metadata": {},
   "outputs": [
    {
     "name": "stdout",
     "output_type": "stream",
     "text": [
      "(16744, 10)\n",
      "Title               object\n",
      "Year                 int64\n",
      "Age                 object\n",
      "IMDb               float64\n",
      "Rotten Tomatoes    float64\n",
      "Directors           object\n",
      "Genres              object\n",
      "Country             object\n",
      "Language            object\n",
      "Runtime            float64\n",
      "dtype: object\n",
      "<bound method NDFrame.head of                                 Title  Year  Age  IMDb  Rotten Tomatoes  \\\n",
      "0                           Inception  2010  13+   8.8             0.87   \n",
      "1                          The Matrix  1999  18+   8.7             0.87   \n",
      "2              Avengers: Infinity War  2018  13+   8.5             0.84   \n",
      "3                  Back to the Future  1985   7+   8.5             0.96   \n",
      "4      The Good, the Bad and the Ugly  1966  18+   8.8             0.97   \n",
      "...                               ...   ...  ...   ...              ...   \n",
      "16739       The Ghosts of Buxley Hall  1980  NaN   6.2              NaN   \n",
      "16740                  The Poof Point  2001   7+   4.7              NaN   \n",
      "16741           Sharks of Lost Island  2013  NaN   5.7              NaN   \n",
      "16742              Man Among Cheetahs  2017  NaN   6.6              NaN   \n",
      "16743                In Beaver Valley  1950  NaN   NaN              NaN   \n",
      "\n",
      "                            Directors                            Genres  \\\n",
      "0                   Christopher Nolan  Action,Adventure,Sci-Fi,Thriller   \n",
      "1      Lana Wachowski,Lilly Wachowski                     Action,Sci-Fi   \n",
      "2             Anthony Russo,Joe Russo           Action,Adventure,Sci-Fi   \n",
      "3                     Robert Zemeckis           Adventure,Comedy,Sci-Fi   \n",
      "4                        Sergio Leone                           Western   \n",
      "...                               ...                               ...   \n",
      "16739                    Bruce Bilson      Comedy,Family,Fantasy,Horror   \n",
      "16740                     Neal Israel              Comedy,Family,Sci-Fi   \n",
      "16741                    Neil Gelinas                       Documentary   \n",
      "16742            Richard Slater-Jones                       Documentary   \n",
      "16743                     James Algar          Documentary,Short,Family   \n",
      "\n",
      "                            Country                 Language  Runtime  \n",
      "0      United States,United Kingdom  English,Japanese,French    148.0  \n",
      "1                     United States                  English    136.0  \n",
      "2                     United States                  English    149.0  \n",
      "3                     United States                  English    116.0  \n",
      "4          Italy,Spain,West Germany                  Italian    161.0  \n",
      "...                             ...                      ...      ...  \n",
      "16739                 United States                  English    120.0  \n",
      "16740                 United States                  English     90.0  \n",
      "16741                 United States                  English      NaN  \n",
      "16742                 United States                  English      NaN  \n",
      "16743                 United States                  English     32.0  \n",
      "\n",
      "[16744 rows x 10 columns]>\n",
      "<bound method NDFrame.tail of                                 Title  Year  Age  IMDb  Rotten Tomatoes  \\\n",
      "0                           Inception  2010  13+   8.8             0.87   \n",
      "1                          The Matrix  1999  18+   8.7             0.87   \n",
      "2              Avengers: Infinity War  2018  13+   8.5             0.84   \n",
      "3                  Back to the Future  1985   7+   8.5             0.96   \n",
      "4      The Good, the Bad and the Ugly  1966  18+   8.8             0.97   \n",
      "...                               ...   ...  ...   ...              ...   \n",
      "16739       The Ghosts of Buxley Hall  1980  NaN   6.2              NaN   \n",
      "16740                  The Poof Point  2001   7+   4.7              NaN   \n",
      "16741           Sharks of Lost Island  2013  NaN   5.7              NaN   \n",
      "16742              Man Among Cheetahs  2017  NaN   6.6              NaN   \n",
      "16743                In Beaver Valley  1950  NaN   NaN              NaN   \n",
      "\n",
      "                            Directors                            Genres  \\\n",
      "0                   Christopher Nolan  Action,Adventure,Sci-Fi,Thriller   \n",
      "1      Lana Wachowski,Lilly Wachowski                     Action,Sci-Fi   \n",
      "2             Anthony Russo,Joe Russo           Action,Adventure,Sci-Fi   \n",
      "3                     Robert Zemeckis           Adventure,Comedy,Sci-Fi   \n",
      "4                        Sergio Leone                           Western   \n",
      "...                               ...                               ...   \n",
      "16739                    Bruce Bilson      Comedy,Family,Fantasy,Horror   \n",
      "16740                     Neal Israel              Comedy,Family,Sci-Fi   \n",
      "16741                    Neil Gelinas                       Documentary   \n",
      "16742            Richard Slater-Jones                       Documentary   \n",
      "16743                     James Algar          Documentary,Short,Family   \n",
      "\n",
      "                            Country                 Language  Runtime  \n",
      "0      United States,United Kingdom  English,Japanese,French    148.0  \n",
      "1                     United States                  English    136.0  \n",
      "2                     United States                  English    149.0  \n",
      "3                     United States                  English    116.0  \n",
      "4          Italy,Spain,West Germany                  Italian    161.0  \n",
      "...                             ...                      ...      ...  \n",
      "16739                 United States                  English    120.0  \n",
      "16740                 United States                  English     90.0  \n",
      "16741                 United States                  English      NaN  \n",
      "16742                 United States                  English      NaN  \n",
      "16743                 United States                  English     32.0  \n",
      "\n",
      "[16744 rows x 10 columns]>\n"
     ]
    }
   ],
   "source": [
    "# Describing the movies data set\n",
    "print(movies.shape)\n",
    "print(movies.dtypes)\n",
    "print(movies.head)\n",
    "print(movies.tail)"
   ]
  },
  {
   "cell_type": "code",
   "execution_count": 8,
   "id": "3834684e",
   "metadata": {},
   "outputs": [
    {
     "name": "stdout",
     "output_type": "stream",
     "text": [
      "(16744, 5)\n",
      "ID             int64\n",
      "Netflix        int64\n",
      "Hulu           int64\n",
      "Prime Video    int64\n",
      "Disney+        int64\n",
      "dtype: object\n",
      "<bound method NDFrame.head of           ID  Netflix  Hulu  Prime Video  Disney+\n",
      "0          1        0     0            1        0\n",
      "1          2        0     1            0        0\n",
      "2          3        0     0            1        0\n",
      "3          4        1     0            0        0\n",
      "4          5        0     0            1        0\n",
      "...      ...      ...   ...          ...      ...\n",
      "16739  16740        0     0            1        0\n",
      "16740  16741        0     0            1        0\n",
      "16741  16742        0     0            1        0\n",
      "16742  16743        0     0            1        0\n",
      "16743  16744        1     0            0        0\n",
      "\n",
      "[16744 rows x 5 columns]>\n",
      "<bound method NDFrame.tail of           ID  Netflix  Hulu  Prime Video  Disney+\n",
      "0          1        0     0            1        0\n",
      "1          2        0     1            0        0\n",
      "2          3        0     0            1        0\n",
      "3          4        1     0            0        0\n",
      "4          5        0     0            1        0\n",
      "...      ...      ...   ...          ...      ...\n",
      "16739  16740        0     0            1        0\n",
      "16740  16741        0     0            1        0\n",
      "16741  16742        0     0            1        0\n",
      "16742  16743        0     0            1        0\n",
      "16743  16744        1     0            0        0\n",
      "\n",
      "[16744 rows x 5 columns]>\n"
     ]
    }
   ],
   "source": [
    "# Describing the ott data set\n",
    "print(ott.shape)\n",
    "print(ott.dtypes)\n",
    "print(ott.head)\n",
    "print(ott.tail)"
   ]
  },
  {
   "cell_type": "code",
   "execution_count": 9,
   "id": "1170947e",
   "metadata": {},
   "outputs": [
    {
     "data": {
      "text/plain": [
       "['Title',\n",
       " 'Year',\n",
       " 'Age',\n",
       " 'IMDb',\n",
       " 'Rotten Tomatoes',\n",
       " 'Directors',\n",
       " 'Genres',\n",
       " 'Country',\n",
       " 'Language',\n",
       " 'Runtime']"
      ]
     },
     "execution_count": 9,
     "metadata": {},
     "output_type": "execute_result"
    }
   ],
   "source": [
    "list(movies)"
   ]
  },
  {
   "cell_type": "code",
   "execution_count": 10,
   "id": "04d3515a",
   "metadata": {},
   "outputs": [
    {
     "data": {
      "text/plain": [
       "['ID', 'Netflix', 'Hulu', 'Prime Video', 'Disney+']"
      ]
     },
     "execution_count": 10,
     "metadata": {},
     "output_type": "execute_result"
    }
   ],
   "source": [
    "list(ott)"
   ]
  },
  {
   "cell_type": "markdown",
   "id": "26f0f573",
   "metadata": {},
   "source": [
    "### Calculating the sum missing values in Age column"
   ]
  },
  {
   "cell_type": "code",
   "execution_count": 11,
   "id": "754d2b7e",
   "metadata": {},
   "outputs": [
    {
     "data": {
      "text/plain": [
       "9390"
      ]
     },
     "execution_count": 11,
     "metadata": {},
     "output_type": "execute_result"
    }
   ],
   "source": [
    "movies['Age'].isnull().sum()"
   ]
  },
  {
   "cell_type": "markdown",
   "id": "0c1b420f",
   "metadata": {},
   "source": [
    "### Replacing missing values with 'Others' in columns: Age, Directors, Genres, Country, and Language."
   ]
  },
  {
   "cell_type": "code",
   "execution_count": 14,
   "id": "9f404c1f",
   "metadata": {},
   "outputs": [
    {
     "data": {
      "text/plain": [
       "0"
      ]
     },
     "execution_count": 14,
     "metadata": {},
     "output_type": "execute_result"
    }
   ],
   "source": [
    "movies['Age'].fillna('Others', inplace = True)\n",
    "\n",
    "# Checking if the missing values in Age column is replaced with Others\n",
    "movies['Age'].isnull().sum()"
   ]
  },
  {
   "cell_type": "code",
   "execution_count": 15,
   "id": "b78d94eb",
   "metadata": {},
   "outputs": [
    {
     "data": {
      "text/plain": [
       "726"
      ]
     },
     "execution_count": 15,
     "metadata": {},
     "output_type": "execute_result"
    }
   ],
   "source": [
    "movies['Directors'].isnull().sum()"
   ]
  },
  {
   "cell_type": "code",
   "execution_count": 16,
   "id": "42569b38",
   "metadata": {},
   "outputs": [
    {
     "data": {
      "text/plain": [
       "0"
      ]
     },
     "execution_count": 16,
     "metadata": {},
     "output_type": "execute_result"
    }
   ],
   "source": [
    "movies['Directors'].fillna('Others', inplace = True)\n",
    "\n",
    "# Checking if the missing values in Directors column is replaced with Others\n",
    "movies['Directors'].isnull().sum()"
   ]
  },
  {
   "cell_type": "code",
   "execution_count": 17,
   "id": "37237b5c",
   "metadata": {},
   "outputs": [
    {
     "data": {
      "text/plain": [
       "275"
      ]
     },
     "execution_count": 17,
     "metadata": {},
     "output_type": "execute_result"
    }
   ],
   "source": [
    "movies['Genres'].isnull().sum()"
   ]
  },
  {
   "cell_type": "code",
   "execution_count": 18,
   "id": "600056a2",
   "metadata": {},
   "outputs": [
    {
     "data": {
      "text/plain": [
       "0"
      ]
     },
     "execution_count": 18,
     "metadata": {},
     "output_type": "execute_result"
    }
   ],
   "source": [
    "movies['Genres'].fillna('Others', inplace = True)\n",
    "\n",
    "# Checking if the missing values in Genres column is replaced with Others\n",
    "movies['Genres'].isnull().sum()"
   ]
  },
  {
   "cell_type": "code",
   "execution_count": 19,
   "id": "71bc2ed5",
   "metadata": {},
   "outputs": [
    {
     "data": {
      "text/plain": [
       "435"
      ]
     },
     "execution_count": 19,
     "metadata": {},
     "output_type": "execute_result"
    }
   ],
   "source": [
    "movies['Country'].isnull().sum()"
   ]
  },
  {
   "cell_type": "code",
   "execution_count": 20,
   "id": "673efd14",
   "metadata": {},
   "outputs": [
    {
     "data": {
      "text/plain": [
       "0"
      ]
     },
     "execution_count": 20,
     "metadata": {},
     "output_type": "execute_result"
    }
   ],
   "source": [
    "movies['Country'].fillna('Others', inplace = True)\n",
    "\n",
    "# Checking if the missing values in Country column is replaced with Others\n",
    "movies['Country'].isnull().sum()"
   ]
  },
  {
   "cell_type": "code",
   "execution_count": 21,
   "id": "d85cd749",
   "metadata": {},
   "outputs": [
    {
     "data": {
      "text/plain": [
       "599"
      ]
     },
     "execution_count": 21,
     "metadata": {},
     "output_type": "execute_result"
    }
   ],
   "source": [
    "movies['Language'].isnull().sum()"
   ]
  },
  {
   "cell_type": "code",
   "execution_count": 22,
   "id": "f6a6471e",
   "metadata": {},
   "outputs": [
    {
     "data": {
      "text/plain": [
       "0"
      ]
     },
     "execution_count": 22,
     "metadata": {},
     "output_type": "execute_result"
    }
   ],
   "source": [
    "movies['Language'].fillna('Others', inplace = True)\n",
    "\n",
    "# Checking if the missing values in Language column is replaced with Others\n",
    "movies['Language'].isnull().sum()"
   ]
  },
  {
   "cell_type": "markdown",
   "id": "3e4b774c",
   "metadata": {},
   "source": [
    "### Convert the Rotten Tomatoes data type from object to integer."
   ]
  },
  {
   "cell_type": "markdown",
   "id": "50b41525",
   "metadata": {},
   "source": [
    "#### 1. First check if there is any missing values in Rotten Tomatoes"
   ]
  },
  {
   "cell_type": "code",
   "execution_count": 27,
   "id": "82f29c58",
   "metadata": {},
   "outputs": [
    {
     "data": {
      "text/plain": [
       "11586"
      ]
     },
     "execution_count": 27,
     "metadata": {},
     "output_type": "execute_result"
    }
   ],
   "source": [
    "movies['Rotten Tomatoes'].isnull().sum()"
   ]
  },
  {
   "cell_type": "code",
   "execution_count": 30,
   "id": "e882ab24",
   "metadata": {},
   "outputs": [
    {
     "data": {
      "text/plain": [
       "0"
      ]
     },
     "execution_count": 30,
     "metadata": {},
     "output_type": "execute_result"
    }
   ],
   "source": [
    "# Replace missing value with the mean\n",
    "movies['Rotten Tomatoes'].fillna(movies['Rotten Tomatoes'].mean(), inplace = True)\n",
    "\n",
    "# Calculate missing values for Rotten Tomatoes.\n",
    "movies['Rotten Tomatoes'].isnull().sum()"
   ]
  },
  {
   "cell_type": "code",
   "execution_count": 25,
   "id": "c5b14644",
   "metadata": {},
   "outputs": [
    {
     "name": "stdout",
     "output_type": "stream",
     "text": [
      "float64\n"
     ]
    }
   ],
   "source": [
    "# Check the date type of Rotten Tomatoes.\n",
    "print(movies['Rotten Tomatoes'].dtypes)"
   ]
  },
  {
   "cell_type": "code",
   "execution_count": 31,
   "id": "b5292d41",
   "metadata": {},
   "outputs": [
    {
     "name": "stdout",
     "output_type": "stream",
     "text": [
      "int64\n"
     ]
    }
   ],
   "source": [
    "# Changing data type\n",
    "movies['Rotten Tomatoes'] = movies['Rotten Tomatoes'].astype(object).astype(int)\n",
    "print(movies['Rotten Tomatoes'].dtypes)\n"
   ]
  },
  {
   "cell_type": "markdown",
   "id": "41a8ea38",
   "metadata": {},
   "source": [
    "#### 2. Check if there are mising values in IMDb"
   ]
  },
  {
   "cell_type": "code",
   "execution_count": 33,
   "id": "1ba37248",
   "metadata": {},
   "outputs": [
    {
     "data": {
      "text/plain": [
       "571"
      ]
     },
     "execution_count": 33,
     "metadata": {},
     "output_type": "execute_result"
    }
   ],
   "source": [
    "movies['IMDb'].isnull().sum()"
   ]
  },
  {
   "cell_type": "code",
   "execution_count": 34,
   "id": "14a16e8d",
   "metadata": {},
   "outputs": [
    {
     "data": {
      "text/plain": [
       "0"
      ]
     },
     "execution_count": 34,
     "metadata": {},
     "output_type": "execute_result"
    }
   ],
   "source": [
    "# Replace missing value with the mean\n",
    "movies['IMDb'].fillna(movies['IMDb'].mean(), inplace = True)\n",
    "\n",
    "# Calculate missing values for IMDb.\n",
    "movies['IMDb'].isnull().sum()"
   ]
  },
  {
   "cell_type": "markdown",
   "id": "b9ab12a7",
   "metadata": {},
   "source": [
    "## 2.3.6 Practical activity: Filter the data"
   ]
  },
  {
   "cell_type": "markdown",
   "id": "963bd1f8",
   "metadata": {},
   "source": [
    "### 1.Determine the column names and data types of the DataFrame."
   ]
  },
  {
   "cell_type": "code",
   "execution_count": 8,
   "id": "1e402b21",
   "metadata": {},
   "outputs": [
    {
     "name": "stdout",
     "output_type": "stream",
     "text": [
      "Column name for movies dataframe:\n",
      " ['Title', 'Year', 'Age', 'IMDb', 'Rotten Tomatoes', 'Directors', 'Genres', 'Country', 'Language', 'Runtime']\n",
      "Column name for ott dataframe: ['ID', 'Netflix', 'Hulu', 'Prime Video', 'Disney+']\n"
     ]
    }
   ],
   "source": [
    "# Column names \n",
    "print(\"Column name for movies dataframe:\\n\",list(movies))\n",
    "print(\"Column name for ott dataframe:\",list(ott))"
   ]
  },
  {
   "cell_type": "code",
   "execution_count": 16,
   "id": "f8c988e0",
   "metadata": {},
   "outputs": [
    {
     "name": "stdout",
     "output_type": "stream",
     "text": [
      "Data type for movies dataframe:\n",
      " Title               object\n",
      "Year                 int64\n",
      "Age                 object\n",
      "IMDb               float64\n",
      "Rotten Tomatoes    float64\n",
      "Directors           object\n",
      "Genres              object\n",
      "Country             object\n",
      "Language            object\n",
      "Runtime            float64\n",
      "dtype: object\n",
      "Data type for ott dataframe:\n",
      " ID             int64\n",
      "Netflix        int64\n",
      "Hulu           int64\n",
      "Prime Video    int64\n",
      "Disney+        int64\n",
      "dtype: object\n"
     ]
    }
   ],
   "source": [
    "# Data Type\n",
    "print(\"Data type for movies dataframe:\\n\",movies.dtypes)\n",
    "print(\"Data type for ott dataframe:\\n\",ott.dtypes)"
   ]
  },
  {
   "cell_type": "markdown",
   "id": "97487aaf",
   "metadata": {},
   "source": [
    "### 2. Filter"
   ]
  },
  {
   "cell_type": "code",
   "execution_count": 27,
   "id": "96e0c4b8",
   "metadata": {},
   "outputs": [
    {
     "data": {
      "text/html": [
       "<div>\n",
       "<style scoped>\n",
       "    .dataframe tbody tr th:only-of-type {\n",
       "        vertical-align: middle;\n",
       "    }\n",
       "\n",
       "    .dataframe tbody tr th {\n",
       "        vertical-align: top;\n",
       "    }\n",
       "\n",
       "    .dataframe thead th {\n",
       "        text-align: right;\n",
       "    }\n",
       "</style>\n",
       "<table border=\"1\" class=\"dataframe\">\n",
       "  <thead>\n",
       "    <tr style=\"text-align: right;\">\n",
       "      <th></th>\n",
       "      <th>Year</th>\n",
       "      <th>IMDb</th>\n",
       "      <th>Rotten Tomatoes</th>\n",
       "      <th>Runtime</th>\n",
       "    </tr>\n",
       "  </thead>\n",
       "  <tbody>\n",
       "    <tr>\n",
       "      <th>0</th>\n",
       "      <td>2010</td>\n",
       "      <td>8.8</td>\n",
       "      <td>0.87</td>\n",
       "      <td>148.0</td>\n",
       "    </tr>\n",
       "    <tr>\n",
       "      <th>1</th>\n",
       "      <td>1999</td>\n",
       "      <td>8.7</td>\n",
       "      <td>0.87</td>\n",
       "      <td>136.0</td>\n",
       "    </tr>\n",
       "    <tr>\n",
       "      <th>2</th>\n",
       "      <td>2018</td>\n",
       "      <td>8.5</td>\n",
       "      <td>0.84</td>\n",
       "      <td>149.0</td>\n",
       "    </tr>\n",
       "    <tr>\n",
       "      <th>3</th>\n",
       "      <td>1985</td>\n",
       "      <td>8.5</td>\n",
       "      <td>0.96</td>\n",
       "      <td>116.0</td>\n",
       "    </tr>\n",
       "    <tr>\n",
       "      <th>4</th>\n",
       "      <td>1966</td>\n",
       "      <td>8.8</td>\n",
       "      <td>0.97</td>\n",
       "      <td>161.0</td>\n",
       "    </tr>\n",
       "  </tbody>\n",
       "</table>\n",
       "</div>"
      ],
      "text/plain": [
       "   Year  IMDb  Rotten Tomatoes  Runtime\n",
       "0  2010   8.8             0.87    148.0\n",
       "1  1999   8.7             0.87    136.0\n",
       "2  2018   8.5             0.84    149.0\n",
       "3  1985   8.5             0.96    116.0\n",
       "4  1966   8.8             0.97    161.0"
      ]
     },
     "execution_count": 27,
     "metadata": {},
     "output_type": "execute_result"
    }
   ],
   "source": [
    "# Filtering movies dataframe for only data type with numbers.\n",
    "movies_num = movies.select_dtypes(['int64','float64'])\n",
    "movies_num.head()"
   ]
  },
  {
   "cell_type": "code",
   "execution_count": 28,
   "id": "d9619892",
   "metadata": {},
   "outputs": [
    {
     "data": {
      "text/html": [
       "<div>\n",
       "<style scoped>\n",
       "    .dataframe tbody tr th:only-of-type {\n",
       "        vertical-align: middle;\n",
       "    }\n",
       "\n",
       "    .dataframe tbody tr th {\n",
       "        vertical-align: top;\n",
       "    }\n",
       "\n",
       "    .dataframe thead th {\n",
       "        text-align: right;\n",
       "    }\n",
       "</style>\n",
       "<table border=\"1\" class=\"dataframe\">\n",
       "  <thead>\n",
       "    <tr style=\"text-align: right;\">\n",
       "      <th></th>\n",
       "      <th>IMDb</th>\n",
       "      <th>Rotten Tomatoes</th>\n",
       "      <th>Runtime</th>\n",
       "    </tr>\n",
       "  </thead>\n",
       "  <tbody>\n",
       "    <tr>\n",
       "      <th>0</th>\n",
       "      <td>8.8</td>\n",
       "      <td>0.87</td>\n",
       "      <td>148.0</td>\n",
       "    </tr>\n",
       "    <tr>\n",
       "      <th>1</th>\n",
       "      <td>8.7</td>\n",
       "      <td>0.87</td>\n",
       "      <td>136.0</td>\n",
       "    </tr>\n",
       "    <tr>\n",
       "      <th>2</th>\n",
       "      <td>8.5</td>\n",
       "      <td>0.84</td>\n",
       "      <td>149.0</td>\n",
       "    </tr>\n",
       "    <tr>\n",
       "      <th>3</th>\n",
       "      <td>8.5</td>\n",
       "      <td>0.96</td>\n",
       "      <td>116.0</td>\n",
       "    </tr>\n",
       "    <tr>\n",
       "      <th>4</th>\n",
       "      <td>8.8</td>\n",
       "      <td>0.97</td>\n",
       "      <td>161.0</td>\n",
       "    </tr>\n",
       "  </tbody>\n",
       "</table>\n",
       "</div>"
      ],
      "text/plain": [
       "   IMDb  Rotten Tomatoes  Runtime\n",
       "0   8.8             0.87    148.0\n",
       "1   8.7             0.87    136.0\n",
       "2   8.5             0.84    149.0\n",
       "3   8.5             0.96    116.0\n",
       "4   8.8             0.97    161.0"
      ]
     },
     "execution_count": 28,
     "metadata": {},
     "output_type": "execute_result"
    }
   ],
   "source": [
    "# Delete / Drop the Year column since it is not a numeric column.\n",
    "movies_num_drp = movies_num.drop('Year', axis = 1)\n",
    "movies_num_drp.head()"
   ]
  },
  {
   "cell_type": "markdown",
   "id": "454c0f13",
   "metadata": {},
   "source": [
    "### 3. Calculate the IQR"
   ]
  },
  {
   "cell_type": "code",
   "execution_count": 37,
   "id": "8d8bbf14",
   "metadata": {},
   "outputs": [
    {
     "name": "stdout",
     "output_type": "stream",
     "text": [
      "Q1, IMDb =5.1\tQ3, IMDb =6.9\n",
      "Q1, Rotten Tomatoes =0.44\tQ3, Rotten Tomatoes =0.88\n",
      "Q1, Runtime =82.0\tQ3, Runtime =104.0\n",
      "\n",
      "IQR_IMDb = 1.8000000000000007\n",
      "IQR_IMDb = 0.44\n",
      "IQR_IMDb = 22.0\n"
     ]
    }
   ],
   "source": [
    "# 1st Quartile\n",
    "q1_IMDb = movies_num_drp['IMDb'].quantile(0.25)\n",
    "q1_Rotten_Tomatoes = movies_num_drp['Rotten Tomatoes'].quantile(0.25)\n",
    "q1_Runtime = movies_num_drp['Runtime'].quantile(0.25)\n",
    "\n",
    "# 3rd Quartile\n",
    "q3_IMDb = movies_num_drp['IMDb'].quantile(0.75)\n",
    "q3_Rotten_Tomatoes = movies_num_drp['Rotten Tomatoes'].quantile(0.75)\n",
    "q3_Runtime = movies_num_drp['Runtime'].quantile(0.75)\n",
    "\n",
    "# View quartile values\n",
    "print(f\"Q1, IMDb ={q1_IMDb}\\tQ3, IMDb ={q3_IMDb}\")\n",
    "print(f\"Q1, Rotten Tomatoes ={q1_Rotten_Tomatoes}\\tQ3, Rotten Tomatoes ={q3_Rotten_Tomatoes}\")\n",
    "print(f\"Q1, Runtime ={q1_Runtime}\\tQ3, Runtime ={q3_Runtime}\")\n",
    "\n",
    "# View IQR\n",
    "print(\"\\nIQR_IMDb =\", (q3_IMDb - q1_IMDb))\n",
    "print(\"IQR_IMDb =\", (q3_Rotten_Tomatoes - q1_Rotten_Tomatoes))\n",
    "print(\"IQR_IMDb =\", (q3_Runtime - q1_Runtime))"
   ]
  },
  {
   "cell_type": "markdown",
   "id": "6e2cb2d6",
   "metadata": {},
   "source": [
    "### Descriptive Statistics"
   ]
  },
  {
   "cell_type": "code",
   "execution_count": 38,
   "id": "11cb5382",
   "metadata": {},
   "outputs": [
    {
     "data": {
      "text/html": [
       "<div>\n",
       "<style scoped>\n",
       "    .dataframe tbody tr th:only-of-type {\n",
       "        vertical-align: middle;\n",
       "    }\n",
       "\n",
       "    .dataframe tbody tr th {\n",
       "        vertical-align: top;\n",
       "    }\n",
       "\n",
       "    .dataframe thead th {\n",
       "        text-align: right;\n",
       "    }\n",
       "</style>\n",
       "<table border=\"1\" class=\"dataframe\">\n",
       "  <thead>\n",
       "    <tr style=\"text-align: right;\">\n",
       "      <th></th>\n",
       "      <th>Year</th>\n",
       "      <th>IMDb</th>\n",
       "      <th>Rotten Tomatoes</th>\n",
       "      <th>Runtime</th>\n",
       "    </tr>\n",
       "  </thead>\n",
       "  <tbody>\n",
       "    <tr>\n",
       "      <th>count</th>\n",
       "      <td>16744.000000</td>\n",
       "      <td>16173.000000</td>\n",
       "      <td>5158.000000</td>\n",
       "      <td>16152.000000</td>\n",
       "    </tr>\n",
       "    <tr>\n",
       "      <th>mean</th>\n",
       "      <td>2003.014035</td>\n",
       "      <td>5.902751</td>\n",
       "      <td>0.654285</td>\n",
       "      <td>93.413447</td>\n",
       "    </tr>\n",
       "    <tr>\n",
       "      <th>std</th>\n",
       "      <td>20.674321</td>\n",
       "      <td>1.347867</td>\n",
       "      <td>0.266145</td>\n",
       "      <td>28.219222</td>\n",
       "    </tr>\n",
       "    <tr>\n",
       "      <th>min</th>\n",
       "      <td>1902.000000</td>\n",
       "      <td>0.000000</td>\n",
       "      <td>0.020000</td>\n",
       "      <td>1.000000</td>\n",
       "    </tr>\n",
       "    <tr>\n",
       "      <th>25%</th>\n",
       "      <td>2000.000000</td>\n",
       "      <td>5.100000</td>\n",
       "      <td>0.440000</td>\n",
       "      <td>82.000000</td>\n",
       "    </tr>\n",
       "    <tr>\n",
       "      <th>50%</th>\n",
       "      <td>2012.000000</td>\n",
       "      <td>6.100000</td>\n",
       "      <td>0.710000</td>\n",
       "      <td>92.000000</td>\n",
       "    </tr>\n",
       "    <tr>\n",
       "      <th>75%</th>\n",
       "      <td>2016.000000</td>\n",
       "      <td>6.900000</td>\n",
       "      <td>0.880000</td>\n",
       "      <td>104.000000</td>\n",
       "    </tr>\n",
       "    <tr>\n",
       "      <th>max</th>\n",
       "      <td>2020.000000</td>\n",
       "      <td>9.300000</td>\n",
       "      <td>1.000000</td>\n",
       "      <td>1256.000000</td>\n",
       "    </tr>\n",
       "  </tbody>\n",
       "</table>\n",
       "</div>"
      ],
      "text/plain": [
       "               Year          IMDb  Rotten Tomatoes       Runtime\n",
       "count  16744.000000  16173.000000      5158.000000  16152.000000\n",
       "mean    2003.014035      5.902751         0.654285     93.413447\n",
       "std       20.674321      1.347867         0.266145     28.219222\n",
       "min     1902.000000      0.000000         0.020000      1.000000\n",
       "25%     2000.000000      5.100000         0.440000     82.000000\n",
       "50%     2012.000000      6.100000         0.710000     92.000000\n",
       "75%     2016.000000      6.900000         0.880000    104.000000\n",
       "max     2020.000000      9.300000         1.000000   1256.000000"
      ]
     },
     "execution_count": 38,
     "metadata": {},
     "output_type": "execute_result"
    }
   ],
   "source": [
    "movies_num.describe()"
   ]
  }
 ],
 "metadata": {
  "kernelspec": {
   "display_name": "Python 3 (ipykernel)",
   "language": "python",
   "name": "python3"
  },
  "language_info": {
   "codemirror_mode": {
    "name": "ipython",
    "version": 3
   },
   "file_extension": ".py",
   "mimetype": "text/x-python",
   "name": "python",
   "nbconvert_exporter": "python",
   "pygments_lexer": "ipython3",
   "version": "3.9.12"
  }
 },
 "nbformat": 4,
 "nbformat_minor": 5
}
