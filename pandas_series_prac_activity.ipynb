{
 "cells": [
  {
   "cell_type": "code",
   "execution_count": 5,
   "id": "edd18508",
   "metadata": {},
   "outputs": [
    {
     "name": "stdout",
     "output_type": "stream",
     "text": [
      "123               Law Enforcement\n",
      "224      Fire and Rescue Services\n",
      "101    Emergency Medical Services\n",
      "999          Emergency Management\n",
      "900                  Public Works\n",
      "dtype: object\n"
     ]
    }
   ],
   "source": [
    "import pandas as pd\n",
    "\n",
    "# Create a dictionary for the emergency number.\n",
    "dict_1 = {'123' : 'Law Enforcement',\n",
    "                '224' : 'Fire and Rescue Services',\n",
    "                '101' : 'Emergency Medical Services',\n",
    "                '999' : 'Emergency Management',\n",
    "                '900' : 'Public Works'}\n",
    "\n",
    "emergency_num = pd.Series(dict_1)\n",
    "\n",
    "print(emergency_num)"
   ]
  },
  {
   "cell_type": "code",
   "execution_count": 6,
   "id": "25b293f0",
   "metadata": {},
   "outputs": [
    {
     "name": "stdout",
     "output_type": "stream",
     "text": [
      "1      Prevention\n",
      "2      mitigation\n",
      "3    preparedness\n",
      "4        response\n",
      "5        recovery\n",
      "dtype: object\n"
     ]
    }
   ],
   "source": [
    "# Create a dictionary for the emergency protocol. Prevention, mitigation, preparedness, response, and recovery\n",
    "dict_2 = {'1' : 'Prevention',\n",
    "         '2' : 'mitigation',\n",
    "         '3' : 'preparedness',\n",
    "         '4' : 'response',\n",
    "         '5' : 'recovery'}\n",
    "\n",
    "emergency_proto = pd.Series(dict_2)\n",
    "print(emergency_proto)"
   ]
  },
  {
   "cell_type": "code",
   "execution_count": 8,
   "id": "df2590e8",
   "metadata": {},
   "outputs": [
    {
     "name": "stdout",
     "output_type": "stream",
     "text": [
      "1          Check carotid pulse (neck)\n",
      "2                    breathing (nose)\n",
      "3    obstructions (nose, ears, mouth)\n",
      "4                 pupils (responsive)\n",
      "5                       consciousness\n",
      "6                     contact details\n",
      "7                           allergies\n",
      "dtype: object\n"
     ]
    }
   ],
   "source": [
    "# Check carotid pulse (neck), breathing (nose), obstructions (nose, ears, mouth),\n",
    "# pupils (responsive), consciousness, contact details, and allergies.\n",
    "# Create a dictionary for the emergency checklist.\n",
    "dict_3 = {'1' : 'Check carotid pulse (neck)',\n",
    "         '2' : 'breathing (nose)',\n",
    "         '3' : 'obstructions (nose, ears, mouth)',\n",
    "         '4' : 'pupils (responsive)',\n",
    "         '5' : 'consciousness',\n",
    "         '6' : 'contact details',\n",
    "         '7' : 'allergies'}\n",
    "\n",
    "emergency_ckl = pd.Series(dict_3)\n",
    "print(emergency_ckl)"
   ]
  }
 ],
 "metadata": {
  "kernelspec": {
   "display_name": "Python 3 (ipykernel)",
   "language": "python",
   "name": "python3"
  },
  "language_info": {
   "codemirror_mode": {
    "name": "ipython",
    "version": 3
   },
   "file_extension": ".py",
   "mimetype": "text/x-python",
   "name": "python",
   "nbconvert_exporter": "python",
   "pygments_lexer": "ipython3",
   "version": "3.9.12"
  }
 },
 "nbformat": 4,
 "nbformat_minor": 5
}
