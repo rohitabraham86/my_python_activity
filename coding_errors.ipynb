{
 "cells": [
  {
   "cell_type": "markdown",
   "id": "58717a37",
   "metadata": {},
   "source": [
    "# Code 1"
   ]
  },
  {
   "cell_type": "code",
   "execution_count": 1,
   "id": "b46af548",
   "metadata": {},
   "outputs": [
    {
     "ename": "NameError",
     "evalue": "name 'total_price' is not defined",
     "output_type": "error",
     "traceback": [
      "\u001b[0;31m---------------------------------------------------------------------------\u001b[0m",
      "\u001b[0;31mNameError\u001b[0m                                 Traceback (most recent call last)",
      "Input \u001b[0;32mIn [1]\u001b[0m, in \u001b[0;36m<cell line: 4>\u001b[0;34m()\u001b[0m\n\u001b[1;32m      1\u001b[0m \u001b[38;5;66;03m# Print the price\u001b[39;00m\n\u001b[1;32m      2\u001b[0m sales_price \u001b[38;5;241m=\u001b[39m \u001b[38;5;241m24500\u001b[39m\n\u001b[0;32m----> 4\u001b[0m \u001b[38;5;28mprint\u001b[39m(\u001b[43mtotal_price\u001b[49m)\n",
      "\u001b[0;31mNameError\u001b[0m: name 'total_price' is not defined"
     ]
    }
   ],
   "source": [
    "# Print the price\n",
    "sales_price = 24500\n",
    "\n",
    "print(total_price)"
   ]
  },
  {
   "cell_type": "code",
   "execution_count": 2,
   "id": "a14d751a",
   "metadata": {},
   "outputs": [
    {
     "name": "stdout",
     "output_type": "stream",
     "text": [
      "24500\n"
     ]
    }
   ],
   "source": [
    "# corrected code\n",
    "sales_price = 24500\n",
    "\n",
    "print(sales_price)\n"
   ]
  },
  {
   "cell_type": "markdown",
   "id": "97e0ae46",
   "metadata": {},
   "source": [
    "# Code 2"
   ]
  },
  {
   "cell_type": "code",
   "execution_count": 3,
   "id": "301fb0e8",
   "metadata": {},
   "outputs": [
    {
     "ename": "SyntaxError",
     "evalue": "Missing parentheses in call to 'print'. Did you mean print(\"My name is James Bond\")? (1268318779.py, line 2)",
     "output_type": "error",
     "traceback": [
      "\u001b[0;36m  Input \u001b[0;32mIn [3]\u001b[0;36m\u001b[0m\n\u001b[0;31m    print \"My name is James Bond\"\u001b[0m\n\u001b[0m          ^\u001b[0m\n\u001b[0;31mSyntaxError\u001b[0m\u001b[0;31m:\u001b[0m Missing parentheses in call to 'print'. Did you mean print(\"My name is James Bond\")?\n"
     ]
    }
   ],
   "source": [
    "# Print a text string verbatim\n",
    "print \"My name is James Bond\""
   ]
  },
  {
   "cell_type": "code",
   "execution_count": 11,
   "id": "5087b82b",
   "metadata": {},
   "outputs": [
    {
     "name": "stdout",
     "output_type": "stream",
     "text": [
      "My name is James Bond\n"
     ]
    }
   ],
   "source": [
    "# Corrected Code\n",
    "print(\"My name is James Bond\") # functions should have paranthesis"
   ]
  },
  {
   "cell_type": "markdown",
   "id": "6b55d416",
   "metadata": {},
   "source": [
    "# Code 3"
   ]
  },
  {
   "cell_type": "code",
   "execution_count": 6,
   "id": "2fb611a4",
   "metadata": {},
   "outputs": [
    {
     "ename": "IndentationError",
     "evalue": "expected an indented block (3142826171.py, line 5)",
     "output_type": "error",
     "traceback": [
      "\u001b[0;36m  Input \u001b[0;32mIn [6]\u001b[0;36m\u001b[0m\n\u001b[0;31m    print('X is greater than 10')\u001b[0m\n\u001b[0m    ^\u001b[0m\n\u001b[0;31mIndentationError\u001b[0m\u001b[0;31m:\u001b[0m expected an indented block\n"
     ]
    }
   ],
   "source": [
    "# Determine if x is greater than 10\n",
    "x = 11 \n",
    "\n",
    "if x > 10:\n",
    "print('X is greater than 10')\n",
    "else: \n",
    "    print('x is not greater than 10')"
   ]
  },
  {
   "cell_type": "code",
   "execution_count": 7,
   "id": "34325a8d",
   "metadata": {},
   "outputs": [
    {
     "name": "stdout",
     "output_type": "stream",
     "text": [
      "X is greater than 10\n"
     ]
    }
   ],
   "source": [
    "# Corrected Code\n",
    "x = 11 \n",
    "\n",
    "if x > 10:\n",
    "    print('X is greater than 10') # if, else and where should have indentation\n",
    "else: \n",
    "    print('x is not greater than 10')"
   ]
  },
  {
   "cell_type": "markdown",
   "id": "f21aeb6d",
   "metadata": {},
   "source": [
    "# Code 4"
   ]
  },
  {
   "cell_type": "code",
   "execution_count": 8,
   "id": "54d17791",
   "metadata": {},
   "outputs": [
    {
     "ename": "IndexError",
     "evalue": "list index out of range",
     "output_type": "error",
     "traceback": [
      "\u001b[0;31m---------------------------------------------------------------------------\u001b[0m",
      "\u001b[0;31mIndexError\u001b[0m                                Traceback (most recent call last)",
      "Input \u001b[0;32mIn [8]\u001b[0m, in \u001b[0;36m<cell line: 4>\u001b[0;34m()\u001b[0m\n\u001b[1;32m      1\u001b[0m \u001b[38;5;66;03m# Create the variable list_a\u001b[39;00m\n\u001b[1;32m      2\u001b[0m list_a \u001b[38;5;241m=\u001b[39m [\u001b[38;5;241m1\u001b[39m,\u001b[38;5;241m2\u001b[39m,\u001b[38;5;241m3\u001b[39m,\u001b[38;5;241m4\u001b[39m,\u001b[38;5;124m'\u001b[39m\u001b[38;5;124mAyaan\u001b[39m\u001b[38;5;124m'\u001b[39m, \u001b[38;5;124m'\u001b[39m\u001b[38;5;124mHirsi\u001b[39m\u001b[38;5;124m'\u001b[39m]\n\u001b[0;32m----> 4\u001b[0m \u001b[43mlist_a\u001b[49m\u001b[43m[\u001b[49m\u001b[38;5;241;43m11\u001b[39;49m\u001b[43m]\u001b[49m\n",
      "\u001b[0;31mIndexError\u001b[0m: list index out of range"
     ]
    }
   ],
   "source": [
    "# Create the variable list_a\n",
    "list_a = [1,2,3,4,'Ayaan', 'Hirsi']\n",
    "\n",
    "list_a[11]"
   ]
  },
  {
   "cell_type": "code",
   "execution_count": 10,
   "id": "e0f75f58",
   "metadata": {},
   "outputs": [
    {
     "data": {
      "text/plain": [
       "'Hirsi'"
      ]
     },
     "execution_count": 10,
     "metadata": {},
     "output_type": "execute_result"
    }
   ],
   "source": [
    "# Create the variable list_a\n",
    "list_a = [1,2,3,4,'Ayaan', 'Hirsi']\n",
    "\n",
    "list_a[5] # List items are indexed starting from 0. Here there are 6 items, so 'Hirsi' is indexed 5 and not 11"
   ]
  }
 ],
 "metadata": {
  "kernelspec": {
   "display_name": "Python 3 (ipykernel)",
   "language": "python",
   "name": "python3"
  },
  "language_info": {
   "codemirror_mode": {
    "name": "ipython",
    "version": 3
   },
   "file_extension": ".py",
   "mimetype": "text/x-python",
   "name": "python",
   "nbconvert_exporter": "python",
   "pygments_lexer": "ipython3",
   "version": "3.9.12"
  }
 },
 "nbformat": 4,
 "nbformat_minor": 5
}
