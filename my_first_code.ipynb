{
 "cells": [
  {
   "cell_type": "code",
   "execution_count": 1,
   "id": "e318d640",
   "metadata": {},
   "outputs": [
    {
     "name": "stdout",
     "output_type": "stream",
     "text": [
      "My name is Rohit Abraham\n",
      "Date : 16/09/2022\n"
     ]
    }
   ],
   "source": [
    "# This is my firt line of code.\n",
    "print ('My name is Rohit Abraham')\n",
    "print ('Date : 16/09/2022')"
   ]
  },
  {
   "cell_type": "markdown",
   "id": "c8cf831e",
   "metadata": {},
   "source": [
    "# Program to Analyse Real Estate Data"
   ]
  },
  {
   "cell_type": "markdown",
   "id": "2869e513",
   "metadata": {},
   "source": [
    "# Question 1: What is the Total Sales Price in December?"
   ]
  },
  {
   "cell_type": "code",
   "execution_count": 6,
   "id": "9dbc74eb",
   "metadata": {},
   "outputs": [
    {
     "name": "stdout",
     "output_type": "stream",
     "text": [
      "Total Sales Price = 182900\n"
     ]
    }
   ],
   "source": [
    "# Assigning property IDs to its Sale Price\n",
    "a = 45000\n",
    "b = 23400\n",
    "c = 67000\n",
    "d = 34600\n",
    "e = 12900\n",
    "\n",
    "# Calculating Total Sales Price\n",
    "total = a + b + c + d + e\n",
    "\n",
    "# Output\n",
    "print ('Total Sales Price =',total)"
   ]
  },
  {
   "cell_type": "markdown",
   "id": "d30f34c2",
   "metadata": {},
   "source": [
    "# Question 2: What is the Average Sales Price in December?"
   ]
  },
  {
   "cell_type": "code",
   "execution_count": 5,
   "id": "299a6bea",
   "metadata": {},
   "outputs": [
    {
     "name": "stdout",
     "output_type": "stream",
     "text": [
      "Average Sales Price = 36580.0\n"
     ]
    }
   ],
   "source": [
    "# Calculating Average Sales Price\n",
    "avg = total / 5\n",
    "print ('Average Sales Price =',avg)"
   ]
  },
  {
   "cell_type": "markdown",
   "id": "a5ae9185",
   "metadata": {},
   "source": [
    "# Question 3: What is the Property Price for C?"
   ]
  },
  {
   "cell_type": "code",
   "execution_count": 7,
   "id": "2f1cfebd",
   "metadata": {},
   "outputs": [
    {
     "name": "stdout",
     "output_type": "stream",
     "text": [
      "Property Price for C = 60500\n"
     ]
    }
   ],
   "source": [
    "comm_c = 6500\n",
    "# Property Price =  Sales Price - Commission\n",
    "print ('Property Price for C =', c - comm_c)"
   ]
  }
 ],
 "metadata": {
  "kernelspec": {
   "display_name": "Python 3 (ipykernel)",
   "language": "python",
   "name": "python3"
  },
  "language_info": {
   "codemirror_mode": {
    "name": "ipython",
    "version": 3
   },
   "file_extension": ".py",
   "mimetype": "text/x-python",
   "name": "python",
   "nbconvert_exporter": "python",
   "pygments_lexer": "ipython3",
   "version": "3.9.12"
  }
 },
 "nbformat": 4,
 "nbformat_minor": 5
}
